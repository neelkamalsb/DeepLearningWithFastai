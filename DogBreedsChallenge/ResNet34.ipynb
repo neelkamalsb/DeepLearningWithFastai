{
  "nbformat": 4,
  "nbformat_minor": 0,
  "metadata": {
    "colab": {
      "name": "DogBreeds.ipynb",
      "version": "0.3.2",
      "provenance": [],
      "collapsed_sections": [
        "UJyTd2RFoDxL"
      ]
    },
    "kernelspec": {
      "name": "python3",
      "display_name": "Python 3"
    },
    "accelerator": "GPU"
  },
  "cells": [
    {
      "metadata": {
        "id": "kl26KwyW2I_G",
        "colab_type": "text"
      },
      "cell_type": "markdown",
      "source": [
        "# Kaggle Dog Breed Identification Challenge\n",
        "Check out the challenge [here](https://www.kaggle.com/c/dog-breed-identification)."
      ]
    },
    {
      "metadata": {
        "id": "wT6fgPeZKIyy",
        "colab_type": "text"
      },
      "cell_type": "markdown",
      "source": [
        "Now we'll be building the same thing as in [Lesson1FULL(1)](https://github.com/neelkamalsb/DeepLearningWithFastai) notebook but on a different architecture and different data with minimum steps.</p>\n",
        "Earlier we had a general approach as follows\n",
        "1.  precompute=True\n",
        "2.  Use lr_find() to find highest learning rate where loss is still clearly improving\n",
        "3.  Train last layer from precomputed activations for 1-2 epochs\n",
        "4.  Train last layer with data augmentation (i.e. precompute=False) for 2-3 epochs with cycle_len=1\n",
        "5.  Unfreeze all layers\n",
        "6.  Set earlier layers to 3x-10x lower learning rate than next higher layer\n",
        "7.  Use lr_find() again\n",
        "8.  Train full network with cycle_mult=2 until over-fitting\n",
        "\n"
      ]
    },
    {
      "metadata": {
        "id": "Em0vxYgQnYk0",
        "colab_type": "text"
      },
      "cell_type": "markdown",
      "source": [
        "## Downloading the data\n",
        "We download the data using [this](https://github.com/floydwch/kaggle-cli).\n",
        "Check out more [here](http://wiki.fast.ai/index.php/Kaggle_CLI)."
      ]
    },
    {
      "metadata": {
        "id": "GdC_4nL734-C",
        "colab_type": "code",
        "colab": {}
      },
      "cell_type": "code",
      "source": [
        "!pip install kaggle-cli\n",
        "!kg config -g -u neelkamalsb -p imaimninkgl -c dog-breed-identification"
      ],
      "execution_count": 0,
      "outputs": []
    },
    {
      "metadata": {
        "id": "iBJSb1KW4ajC",
        "colab_type": "code",
        "colab": {}
      },
      "cell_type": "code",
      "source": [
        "!kg download"
      ],
      "execution_count": 0,
      "outputs": []
    },
    {
      "metadata": {
        "id": "TjrOK_OQoKi2",
        "colab_type": "code",
        "outputId": "2769ea86-e1e5-4452-ba9e-8476478494b8",
        "colab": {
          "base_uri": "https://localhost:8080/",
          "height": 34
        }
      },
      "cell_type": "code",
      "source": [
        "!ls"
      ],
      "execution_count": 0,
      "outputs": [
        {
          "output_type": "stream",
          "text": [
            "labels.csv.zip\tsample_data  sample_submission.csv.zip\ttest.zip  train.zip\n"
          ],
          "name": "stdout"
        }
      ]
    },
    {
      "metadata": {
        "id": "l_TAgcfKoYxZ",
        "colab_type": "code",
        "colab": {}
      },
      "cell_type": "code",
      "source": [
        "!sudo apt install unzip\n",
        "!unzip train.zip\n",
        "!unzip test.zip\n",
        "!unzip labels.csv.zip"
      ],
      "execution_count": 0,
      "outputs": []
    },
    {
      "metadata": {
        "id": "5HqbrISBors8",
        "colab_type": "code",
        "outputId": "3a6e799f-f156-4565-91b9-ea86abb2f62e",
        "colab": {
          "base_uri": "https://localhost:8080/",
          "height": 50
        }
      },
      "cell_type": "code",
      "source": [
        "!ls"
      ],
      "execution_count": 0,
      "outputs": [
        {
          "output_type": "stream",
          "text": [
            "labels.csv\tsample_data\t\t   test      train\n",
            "labels.csv.zip\tsample_submission.csv.zip  test.zip  train.zip\n"
          ],
          "name": "stdout"
        }
      ]
    },
    {
      "metadata": {
        "id": "VRlmXbLhhF0J",
        "colab_type": "code",
        "colab": {}
      },
      "cell_type": "code",
      "source": [
        "!unzip sample_submission.csv.zip"
      ],
      "execution_count": 0,
      "outputs": []
    },
    {
      "metadata": {
        "id": "8yQIAzfzqCLV",
        "colab_type": "code",
        "outputId": "e6ebc866-0e2d-4e54-c374-d947fd22f415",
        "colab": {
          "base_uri": "https://localhost:8080/",
          "height": 168
        }
      },
      "cell_type": "code",
      "source": [
        "!ls -l"
      ],
      "execution_count": 0,
      "outputs": [
        {
          "output_type": "stream",
          "text": [
            "total 709352\n",
            "-rw-r--r-- 1 root root    482063 Sep 28  2017 labels.csv\n",
            "-rw-r--r-- 1 root root    218954 Nov 23 02:03 labels.csv.zip\n",
            "drwxr-xr-x 2 root root      4096 Nov 20 18:17 sample_data\n",
            "-rw-r--r-- 1 root root    288160 Nov 23 02:03 sample_submission.csv.zip\n",
            "drwxr-xr-x 2 root root    688128 Sep 28  2017 test\n",
            "-rw-r--r-- 1 root root 362738853 Nov 23 02:03 test.zip\n",
            "drwxr-xr-x 2 root root    663552 Sep 28  2017 train\n",
            "-rw-r--r-- 1 root root 361279070 Nov 23 02:03 train.zip\n"
          ],
          "name": "stdout"
        }
      ]
    },
    {
      "metadata": {
        "id": "UJyTd2RFoDxL",
        "colab_type": "text"
      },
      "cell_type": "markdown",
      "source": [
        "## Some Google Colab Setup"
      ]
    },
    {
      "metadata": {
        "id": "J_5XT_9SSVfd",
        "colab_type": "code",
        "colab": {}
      },
      "cell_type": "code",
      "source": [
        "%matplotlib inline"
      ],
      "execution_count": 0,
      "outputs": []
    },
    {
      "metadata": {
        "id": "R6pVH1tIUkuB",
        "colab_type": "code",
        "colab": {}
      },
      "cell_type": "code",
      "source": [
        "!pip3 install fastai==0.7.0"
      ],
      "execution_count": 0,
      "outputs": []
    },
    {
      "metadata": {
        "id": "RLYTicBnUoYr",
        "colab_type": "code",
        "colab": {}
      },
      "cell_type": "code",
      "source": [
        "!pip3 install http://download.pytorch.org/whl/cu80/torch-0.3.0.post4-cp36-cp36m-linux_x86_64.whl \n",
        "!pip3 install torchvision"
      ],
      "execution_count": 0,
      "outputs": []
    },
    {
      "metadata": {
        "id": "_i5SlN17U2JO",
        "colab_type": "code",
        "colab": {}
      },
      "cell_type": "code",
      "source": [
        "!pip install torchtext==0.2.3"
      ],
      "execution_count": 0,
      "outputs": []
    },
    {
      "metadata": {
        "id": "uwU7tDzzXrwP",
        "colab_type": "code",
        "colab": {}
      },
      "cell_type": "code",
      "source": [
        "!pip install pillow==4.0.0"
      ],
      "execution_count": 0,
      "outputs": []
    },
    {
      "metadata": {
        "id": "B6k75ha7qxOT",
        "colab_type": "text"
      },
      "cell_type": "markdown",
      "source": [
        "## Let's GO!"
      ]
    },
    {
      "metadata": {
        "id": "hAhscQ7XqwcL",
        "colab_type": "code",
        "colab": {}
      },
      "cell_type": "code",
      "source": [
        "from fastai.imports import *"
      ],
      "execution_count": 0,
      "outputs": []
    },
    {
      "metadata": {
        "id": "_5hT1q3Kq7Ez",
        "colab_type": "code",
        "colab": {}
      },
      "cell_type": "code",
      "source": [
        "from fastai.transforms import *\n",
        "from fastai.conv_learner import *\n",
        "from fastai.model import *\n",
        "from fastai.dataset import *\n",
        "from fastai.sgdr import *\n",
        "from fastai.plots import *"
      ],
      "execution_count": 0,
      "outputs": []
    },
    {
      "metadata": {
        "id": "A-oZH-QNnBbs",
        "colab_type": "code",
        "outputId": "f5f29fcb-cddb-4339-80b9-4fc1564a7e7a",
        "colab": {
          "base_uri": "https://localhost:8080/",
          "height": 34
        }
      },
      "cell_type": "code",
      "source": [
        "torch.cuda.is_available()             #this should return true"
      ],
      "execution_count": 0,
      "outputs": [
        {
          "output_type": "execute_result",
          "data": {
            "text/plain": [
              "True"
            ]
          },
          "metadata": {
            "tags": []
          },
          "execution_count": 14
        }
      ]
    },
    {
      "metadata": {
        "id": "VP8YEx5NpY89",
        "colab_type": "code",
        "outputId": "2054b14f-64d9-4cf7-d351-63ec2d13e1d8",
        "colab": {
          "base_uri": "https://localhost:8080/",
          "height": 34
        }
      },
      "cell_type": "code",
      "source": [
        "torch.backends.cudnn.enabled          #this should return true."
      ],
      "execution_count": 0,
      "outputs": [
        {
          "output_type": "execute_result",
          "data": {
            "text/plain": [
              "True"
            ]
          },
          "metadata": {
            "tags": []
          },
          "execution_count": 15
        }
      ]
    },
    {
      "metadata": {
        "id": "tn-vzXDkaRJb",
        "colab_type": "text"
      },
      "cell_type": "markdown",
      "source": [
        "### Define some requirements and get a Cross validation set"
      ]
    },
    {
      "metadata": {
        "id": "Z9APnhtHqkbJ",
        "colab_type": "code",
        "colab": {}
      },
      "cell_type": "code",
      "source": [
        "PATH = './'\n",
        "sz = 224\n",
        "arch = resnet34\n",
        "bs = 8"
      ],
      "execution_count": 0,
      "outputs": []
    },
    {
      "metadata": {
        "id": "iS7DdTVVrObS",
        "colab_type": "code",
        "outputId": "3e9780d4-d8f0-41fa-c350-f818e011a8f0",
        "colab": {
          "base_uri": "https://localhost:8080/",
          "height": 67
        }
      },
      "cell_type": "code",
      "source": [
        "label_csv = f'{PATH}labels.csv'                                #Get the labels.\n",
        "n = len(list(open(label_csv)))                                 #See the no. of labels.\n",
        "val_idxs = get_cv_idxs(n, cv_idx=3)                            #Get the validation set. \n",
        "                                                               #'get_cv_idxs(n)' gives numpy.ndarray of random\n",
        "                                                               # indices from 'labels_csv' for validation set.\n",
        "print('Total no. training Examples: ', n)                      #See how many examples are there.\n",
        "print('No. of Cross Validation Set Examples: ', len(val_idxs)) #We get 20% in the validation set.\n",
        "val_idxs"
      ],
      "execution_count": 0,
      "outputs": [
        {
          "output_type": "stream",
          "text": [
            "Total no. training Examples:  10223\n",
            "No. of Cross Validation Set Examples:  2044\n"
          ],
          "name": "stdout"
        },
        {
          "output_type": "execute_result",
          "data": {
            "text/plain": [
              "array([3386, 8026, 9503, ..., 7504, 8531, 6511])"
            ]
          },
          "metadata": {
            "tags": []
          },
          "execution_count": 17
        }
      ]
    },
    {
      "metadata": {
        "id": "TsVORzYSakEK",
        "colab_type": "text"
      },
      "cell_type": "markdown",
      "source": [
        "### Check out the data"
      ]
    },
    {
      "metadata": {
        "id": "QBHELf7Gra1X",
        "colab_type": "code",
        "outputId": "1d08534f-96e8-41f2-819c-f1c6e6342bd3",
        "colab": {
          "base_uri": "https://localhost:8080/",
          "height": 343
        }
      },
      "cell_type": "code",
      "source": [
        "label_df = pd.read_csv(label_csv)\n",
        "label_df.head(10)"
      ],
      "execution_count": 0,
      "outputs": [
        {
          "output_type": "execute_result",
          "data": {
            "text/html": [
              "<div>\n",
              "<style scoped>\n",
              "    .dataframe tbody tr th:only-of-type {\n",
              "        vertical-align: middle;\n",
              "    }\n",
              "\n",
              "    .dataframe tbody tr th {\n",
              "        vertical-align: top;\n",
              "    }\n",
              "\n",
              "    .dataframe thead th {\n",
              "        text-align: right;\n",
              "    }\n",
              "</style>\n",
              "<table border=\"1\" class=\"dataframe\">\n",
              "  <thead>\n",
              "    <tr style=\"text-align: right;\">\n",
              "      <th></th>\n",
              "      <th>id</th>\n",
              "      <th>breed</th>\n",
              "    </tr>\n",
              "  </thead>\n",
              "  <tbody>\n",
              "    <tr>\n",
              "      <th>0</th>\n",
              "      <td>000bec180eb18c7604dcecc8fe0dba07</td>\n",
              "      <td>boston_bull</td>\n",
              "    </tr>\n",
              "    <tr>\n",
              "      <th>1</th>\n",
              "      <td>001513dfcb2ffafc82cccf4d8bbaba97</td>\n",
              "      <td>dingo</td>\n",
              "    </tr>\n",
              "    <tr>\n",
              "      <th>2</th>\n",
              "      <td>001cdf01b096e06d78e9e5112d419397</td>\n",
              "      <td>pekinese</td>\n",
              "    </tr>\n",
              "    <tr>\n",
              "      <th>3</th>\n",
              "      <td>00214f311d5d2247d5dfe4fe24b2303d</td>\n",
              "      <td>bluetick</td>\n",
              "    </tr>\n",
              "    <tr>\n",
              "      <th>4</th>\n",
              "      <td>0021f9ceb3235effd7fcde7f7538ed62</td>\n",
              "      <td>golden_retriever</td>\n",
              "    </tr>\n",
              "    <tr>\n",
              "      <th>5</th>\n",
              "      <td>002211c81b498ef88e1b40b9abf84e1d</td>\n",
              "      <td>bedlington_terrier</td>\n",
              "    </tr>\n",
              "    <tr>\n",
              "      <th>6</th>\n",
              "      <td>00290d3e1fdd27226ba27a8ce248ce85</td>\n",
              "      <td>bedlington_terrier</td>\n",
              "    </tr>\n",
              "    <tr>\n",
              "      <th>7</th>\n",
              "      <td>002a283a315af96eaea0e28e7163b21b</td>\n",
              "      <td>borzoi</td>\n",
              "    </tr>\n",
              "    <tr>\n",
              "      <th>8</th>\n",
              "      <td>003df8b8a8b05244b1d920bb6cf451f9</td>\n",
              "      <td>basenji</td>\n",
              "    </tr>\n",
              "    <tr>\n",
              "      <th>9</th>\n",
              "      <td>0042188c895a2f14ef64a918ed9c7b64</td>\n",
              "      <td>scottish_deerhound</td>\n",
              "    </tr>\n",
              "  </tbody>\n",
              "</table>\n",
              "</div>"
            ],
            "text/plain": [
              "                                 id               breed\n",
              "0  000bec180eb18c7604dcecc8fe0dba07         boston_bull\n",
              "1  001513dfcb2ffafc82cccf4d8bbaba97               dingo\n",
              "2  001cdf01b096e06d78e9e5112d419397            pekinese\n",
              "3  00214f311d5d2247d5dfe4fe24b2303d            bluetick\n",
              "4  0021f9ceb3235effd7fcde7f7538ed62    golden_retriever\n",
              "5  002211c81b498ef88e1b40b9abf84e1d  bedlington_terrier\n",
              "6  00290d3e1fdd27226ba27a8ce248ce85  bedlington_terrier\n",
              "7  002a283a315af96eaea0e28e7163b21b              borzoi\n",
              "8  003df8b8a8b05244b1d920bb6cf451f9             basenji\n",
              "9  0042188c895a2f14ef64a918ed9c7b64  scottish_deerhound"
            ]
          },
          "metadata": {
            "tags": []
          },
          "execution_count": 18
        }
      ]
    },
    {
      "metadata": {
        "id": "YuVDbbZUteTt",
        "colab_type": "code",
        "outputId": "1fe4899f-2875-40bc-b2c8-d9fb32814221",
        "colab": {
          "base_uri": "https://localhost:8080/",
          "height": 1911
        }
      },
      "cell_type": "code",
      "source": [
        "label_df.pivot_table(index='breed', aggfunc=len).sort_values('id', ascending=False)"
      ],
      "execution_count": 0,
      "outputs": [
        {
          "output_type": "execute_result",
          "data": {
            "text/html": [
              "<div>\n",
              "<style scoped>\n",
              "    .dataframe tbody tr th:only-of-type {\n",
              "        vertical-align: middle;\n",
              "    }\n",
              "\n",
              "    .dataframe tbody tr th {\n",
              "        vertical-align: top;\n",
              "    }\n",
              "\n",
              "    .dataframe thead th {\n",
              "        text-align: right;\n",
              "    }\n",
              "</style>\n",
              "<table border=\"1\" class=\"dataframe\">\n",
              "  <thead>\n",
              "    <tr style=\"text-align: right;\">\n",
              "      <th></th>\n",
              "      <th>id</th>\n",
              "    </tr>\n",
              "    <tr>\n",
              "      <th>breed</th>\n",
              "      <th></th>\n",
              "    </tr>\n",
              "  </thead>\n",
              "  <tbody>\n",
              "    <tr>\n",
              "      <th>scottish_deerhound</th>\n",
              "      <td>126</td>\n",
              "    </tr>\n",
              "    <tr>\n",
              "      <th>maltese_dog</th>\n",
              "      <td>117</td>\n",
              "    </tr>\n",
              "    <tr>\n",
              "      <th>afghan_hound</th>\n",
              "      <td>116</td>\n",
              "    </tr>\n",
              "    <tr>\n",
              "      <th>entlebucher</th>\n",
              "      <td>115</td>\n",
              "    </tr>\n",
              "    <tr>\n",
              "      <th>bernese_mountain_dog</th>\n",
              "      <td>114</td>\n",
              "    </tr>\n",
              "    <tr>\n",
              "      <th>shih-tzu</th>\n",
              "      <td>112</td>\n",
              "    </tr>\n",
              "    <tr>\n",
              "      <th>great_pyrenees</th>\n",
              "      <td>111</td>\n",
              "    </tr>\n",
              "    <tr>\n",
              "      <th>pomeranian</th>\n",
              "      <td>111</td>\n",
              "    </tr>\n",
              "    <tr>\n",
              "      <th>basenji</th>\n",
              "      <td>110</td>\n",
              "    </tr>\n",
              "    <tr>\n",
              "      <th>samoyed</th>\n",
              "      <td>109</td>\n",
              "    </tr>\n",
              "    <tr>\n",
              "      <th>airedale</th>\n",
              "      <td>107</td>\n",
              "    </tr>\n",
              "    <tr>\n",
              "      <th>tibetan_terrier</th>\n",
              "      <td>107</td>\n",
              "    </tr>\n",
              "    <tr>\n",
              "      <th>leonberg</th>\n",
              "      <td>106</td>\n",
              "    </tr>\n",
              "    <tr>\n",
              "      <th>cairn</th>\n",
              "      <td>106</td>\n",
              "    </tr>\n",
              "    <tr>\n",
              "      <th>beagle</th>\n",
              "      <td>105</td>\n",
              "    </tr>\n",
              "    <tr>\n",
              "      <th>japanese_spaniel</th>\n",
              "      <td>105</td>\n",
              "    </tr>\n",
              "    <tr>\n",
              "      <th>australian_terrier</th>\n",
              "      <td>102</td>\n",
              "    </tr>\n",
              "    <tr>\n",
              "      <th>blenheim_spaniel</th>\n",
              "      <td>102</td>\n",
              "    </tr>\n",
              "    <tr>\n",
              "      <th>miniature_pinscher</th>\n",
              "      <td>102</td>\n",
              "    </tr>\n",
              "    <tr>\n",
              "      <th>irish_wolfhound</th>\n",
              "      <td>101</td>\n",
              "    </tr>\n",
              "    <tr>\n",
              "      <th>lakeland_terrier</th>\n",
              "      <td>99</td>\n",
              "    </tr>\n",
              "    <tr>\n",
              "      <th>saluki</th>\n",
              "      <td>99</td>\n",
              "    </tr>\n",
              "    <tr>\n",
              "      <th>papillon</th>\n",
              "      <td>96</td>\n",
              "    </tr>\n",
              "    <tr>\n",
              "      <th>whippet</th>\n",
              "      <td>95</td>\n",
              "    </tr>\n",
              "    <tr>\n",
              "      <th>siberian_husky</th>\n",
              "      <td>95</td>\n",
              "    </tr>\n",
              "    <tr>\n",
              "      <th>norwegian_elkhound</th>\n",
              "      <td>95</td>\n",
              "    </tr>\n",
              "    <tr>\n",
              "      <th>pug</th>\n",
              "      <td>94</td>\n",
              "    </tr>\n",
              "    <tr>\n",
              "      <th>chow</th>\n",
              "      <td>93</td>\n",
              "    </tr>\n",
              "    <tr>\n",
              "      <th>italian_greyhound</th>\n",
              "      <td>92</td>\n",
              "    </tr>\n",
              "    <tr>\n",
              "      <th>pembroke</th>\n",
              "      <td>92</td>\n",
              "    </tr>\n",
              "    <tr>\n",
              "      <th>...</th>\n",
              "      <td>...</td>\n",
              "    </tr>\n",
              "    <tr>\n",
              "      <th>german_short-haired_pointer</th>\n",
              "      <td>75</td>\n",
              "    </tr>\n",
              "    <tr>\n",
              "      <th>boxer</th>\n",
              "      <td>75</td>\n",
              "    </tr>\n",
              "    <tr>\n",
              "      <th>bull_mastiff</th>\n",
              "      <td>75</td>\n",
              "    </tr>\n",
              "    <tr>\n",
              "      <th>borzoi</th>\n",
              "      <td>75</td>\n",
              "    </tr>\n",
              "    <tr>\n",
              "      <th>pekinese</th>\n",
              "      <td>75</td>\n",
              "    </tr>\n",
              "    <tr>\n",
              "      <th>cocker_spaniel</th>\n",
              "      <td>74</td>\n",
              "    </tr>\n",
              "    <tr>\n",
              "      <th>american_staffordshire_terrier</th>\n",
              "      <td>74</td>\n",
              "    </tr>\n",
              "    <tr>\n",
              "      <th>doberman</th>\n",
              "      <td>74</td>\n",
              "    </tr>\n",
              "    <tr>\n",
              "      <th>brittany_spaniel</th>\n",
              "      <td>73</td>\n",
              "    </tr>\n",
              "    <tr>\n",
              "      <th>malinois</th>\n",
              "      <td>73</td>\n",
              "    </tr>\n",
              "    <tr>\n",
              "      <th>standard_schnauzer</th>\n",
              "      <td>72</td>\n",
              "    </tr>\n",
              "    <tr>\n",
              "      <th>flat-coated_retriever</th>\n",
              "      <td>72</td>\n",
              "    </tr>\n",
              "    <tr>\n",
              "      <th>redbone</th>\n",
              "      <td>72</td>\n",
              "    </tr>\n",
              "    <tr>\n",
              "      <th>border_collie</th>\n",
              "      <td>72</td>\n",
              "    </tr>\n",
              "    <tr>\n",
              "      <th>curly-coated_retriever</th>\n",
              "      <td>72</td>\n",
              "    </tr>\n",
              "    <tr>\n",
              "      <th>kuvasz</th>\n",
              "      <td>71</td>\n",
              "    </tr>\n",
              "    <tr>\n",
              "      <th>chihuahua</th>\n",
              "      <td>71</td>\n",
              "    </tr>\n",
              "    <tr>\n",
              "      <th>soft-coated_wheaten_terrier</th>\n",
              "      <td>71</td>\n",
              "    </tr>\n",
              "    <tr>\n",
              "      <th>french_bulldog</th>\n",
              "      <td>70</td>\n",
              "    </tr>\n",
              "    <tr>\n",
              "      <th>vizsla</th>\n",
              "      <td>70</td>\n",
              "    </tr>\n",
              "    <tr>\n",
              "      <th>tibetan_mastiff</th>\n",
              "      <td>69</td>\n",
              "    </tr>\n",
              "    <tr>\n",
              "      <th>german_shepherd</th>\n",
              "      <td>69</td>\n",
              "    </tr>\n",
              "    <tr>\n",
              "      <th>giant_schnauzer</th>\n",
              "      <td>69</td>\n",
              "    </tr>\n",
              "    <tr>\n",
              "      <th>walker_hound</th>\n",
              "      <td>69</td>\n",
              "    </tr>\n",
              "    <tr>\n",
              "      <th>otterhound</th>\n",
              "      <td>69</td>\n",
              "    </tr>\n",
              "    <tr>\n",
              "      <th>golden_retriever</th>\n",
              "      <td>67</td>\n",
              "    </tr>\n",
              "    <tr>\n",
              "      <th>brabancon_griffon</th>\n",
              "      <td>67</td>\n",
              "    </tr>\n",
              "    <tr>\n",
              "      <th>komondor</th>\n",
              "      <td>67</td>\n",
              "    </tr>\n",
              "    <tr>\n",
              "      <th>briard</th>\n",
              "      <td>66</td>\n",
              "    </tr>\n",
              "    <tr>\n",
              "      <th>eskimo_dog</th>\n",
              "      <td>66</td>\n",
              "    </tr>\n",
              "  </tbody>\n",
              "</table>\n",
              "<p>120 rows × 1 columns</p>\n",
              "</div>"
            ],
            "text/plain": [
              "                                 id\n",
              "breed                              \n",
              "scottish_deerhound              126\n",
              "maltese_dog                     117\n",
              "afghan_hound                    116\n",
              "entlebucher                     115\n",
              "bernese_mountain_dog            114\n",
              "shih-tzu                        112\n",
              "great_pyrenees                  111\n",
              "pomeranian                      111\n",
              "basenji                         110\n",
              "samoyed                         109\n",
              "airedale                        107\n",
              "tibetan_terrier                 107\n",
              "leonberg                        106\n",
              "cairn                           106\n",
              "beagle                          105\n",
              "japanese_spaniel                105\n",
              "australian_terrier              102\n",
              "blenheim_spaniel                102\n",
              "miniature_pinscher              102\n",
              "irish_wolfhound                 101\n",
              "lakeland_terrier                 99\n",
              "saluki                           99\n",
              "papillon                         96\n",
              "whippet                          95\n",
              "siberian_husky                   95\n",
              "norwegian_elkhound               95\n",
              "pug                              94\n",
              "chow                             93\n",
              "italian_greyhound                92\n",
              "pembroke                         92\n",
              "...                             ...\n",
              "german_short-haired_pointer      75\n",
              "boxer                            75\n",
              "bull_mastiff                     75\n",
              "borzoi                           75\n",
              "pekinese                         75\n",
              "cocker_spaniel                   74\n",
              "american_staffordshire_terrier   74\n",
              "doberman                         74\n",
              "brittany_spaniel                 73\n",
              "malinois                         73\n",
              "standard_schnauzer               72\n",
              "flat-coated_retriever            72\n",
              "redbone                          72\n",
              "border_collie                    72\n",
              "curly-coated_retriever           72\n",
              "kuvasz                           71\n",
              "chihuahua                        71\n",
              "soft-coated_wheaten_terrier      71\n",
              "french_bulldog                   70\n",
              "vizsla                           70\n",
              "tibetan_mastiff                  69\n",
              "german_shepherd                  69\n",
              "giant_schnauzer                  69\n",
              "walker_hound                     69\n",
              "otterhound                       69\n",
              "golden_retriever                 67\n",
              "brabancon_griffon                67\n",
              "komondor                         67\n",
              "briard                           66\n",
              "eskimo_dog                       66\n",
              "\n",
              "[120 rows x 1 columns]"
            ]
          },
          "metadata": {
            "tags": []
          },
          "execution_count": 19
        }
      ]
    },
    {
      "metadata": {
        "id": "Unfk30nDapTJ",
        "colab_type": "text"
      },
      "cell_type": "markdown",
      "source": [
        "### Build a function to get data varying sizes easily"
      ]
    },
    {
      "metadata": {
        "id": "GzF8e2Z8w8Rj",
        "colab_type": "code",
        "colab": {}
      },
      "cell_type": "code",
      "source": [
        "def get_data(sz, bs):\n",
        "  tfms = tfms_from_model(arch, sz, aug_tfms=transforms_side_on, max_zoom=1.1)\n",
        "  data = ImageClassifierData.from_csv(PATH, 'train', f'{PATH}labels.csv', \n",
        "                                      test_name='test', num_workers=4, \n",
        "                                      val_idxs=val_idxs, suffix='.jpg', \n",
        "                                      tfms=tfms, bs=bs)\n",
        "  return data if bs>300 else data.resize(340,'tmp')"
      ],
      "execution_count": 0,
      "outputs": []
    },
    {
      "metadata": {
        "id": "H-h4BPlGvKkw",
        "colab_type": "code",
        "outputId": "a8f6d98e-16f3-46d0-aaa8-fe65f1803e9c",
        "colab": {
          "base_uri": "https://localhost:8080/",
          "height": 50
        }
      },
      "cell_type": "code",
      "source": [
        "data = get_data(sz, bs)\n"
      ],
      "execution_count": 0,
      "outputs": [
        {
          "output_type": "display_data",
          "data": {
            "application/vnd.jupyter.widget-view+json": {
              "model_id": "209b34c711c246f78ad411a5f06d3752",
              "version_minor": 0,
              "version_major": 2
            },
            "text/plain": [
              "HBox(children=(IntProgress(value=0, max=6), HTML(value='')))"
            ]
          },
          "metadata": {
            "tags": []
          }
        },
        {
          "output_type": "stream",
          "text": [
            "                                                     \n"
          ],
          "name": "stdout"
        }
      ]
    },
    {
      "metadata": {
        "id": "0Yg28W34a-rf",
        "colab_type": "text"
      },
      "cell_type": "markdown",
      "source": [
        "### Learn!"
      ]
    },
    {
      "metadata": {
        "id": "1QkbcY_ywPe0",
        "colab_type": "code",
        "colab": {}
      },
      "cell_type": "code",
      "source": [
        "learn = ConvLearner.pretrained(arch, data, precompute=True, ps=0.5)\n"
      ],
      "execution_count": 0,
      "outputs": []
    },
    {
      "metadata": {
        "id": "XAZ49y8Y6Ae0",
        "colab_type": "code",
        "outputId": "ec6c97e4-c7a6-49df-8189-1666f926d22b",
        "colab": {
          "base_uri": "https://localhost:8080/",
          "height": 34
        }
      },
      "cell_type": "code",
      "source": [
        "lrf=learn.lr_find()\n",
        "lrf"
      ],
      "execution_count": 0,
      "outputs": [
        {
          "output_type": "display_data",
          "data": {
            "application/vnd.jupyter.widget-view+json": {
              "model_id": "20f1c23e735e46f6bf73445ed9ec2bf1",
              "version_minor": 0,
              "version_major": 2
            },
            "text/plain": [
              "HBox(children=(IntProgress(value=0, description='Epoch', max=1, style=ProgressStyle(description_width='initial…"
            ]
          },
          "metadata": {
            "tags": []
          }
        },
        {
          "output_type": "stream",
          "text": [
            ""
          ],
          "name": "stdout"
        }
      ]
    },
    {
      "metadata": {
        "id": "NyfAAw9M1H9x",
        "colab_type": "code",
        "colab": {}
      },
      "cell_type": "code",
      "source": [
        "learn.sched.plot_lr()    #This is not plotting, and I am unable to find the reason\n",
        "                         #Suggestions are welcomed!"
      ],
      "execution_count": 0,
      "outputs": []
    },
    {
      "metadata": {
        "id": "UVi7bWb11StK",
        "colab_type": "code",
        "colab": {}
      },
      "cell_type": "code",
      "source": [
        "learn.sched.plot()       #This is not plotting, and I am unable to find the reason\n",
        "                         #Suggestions are welcomed!"
      ],
      "execution_count": 0,
      "outputs": []
    },
    {
      "metadata": {
        "id": "sQi8imf-3LbB",
        "colab_type": "code",
        "outputId": "0412064c-8fb8-4a60-b6e9-0a9c1dd7d703",
        "colab": {
          "base_uri": "https://localhost:8080/",
          "height": 118
        }
      },
      "cell_type": "code",
      "source": [
        "learn.fit(1e-2, 3)"
      ],
      "execution_count": 0,
      "outputs": [
        {
          "output_type": "display_data",
          "data": {
            "application/vnd.jupyter.widget-view+json": {
              "model_id": "dcb4993723384905bb980e77e23e07ab",
              "version_minor": 0,
              "version_major": 2
            },
            "text/plain": [
              "HBox(children=(IntProgress(value=0, description='Epoch', max=3, style=ProgressStyle(description_width='initial…"
            ]
          },
          "metadata": {
            "tags": []
          }
        },
        {
          "output_type": "stream",
          "text": [
            "epoch      trn_loss   val_loss   accuracy   \n",
            "    0      1.526604   0.744559   0.770548  \n",
            "    1      1.20965    0.711759   0.789628  \n",
            "    2      0.993023   0.64217    0.802838  \n"
          ],
          "name": "stdout"
        },
        {
          "output_type": "execute_result",
          "data": {
            "text/plain": [
              "[array([0.64217]), 0.8028375733855186]"
            ]
          },
          "metadata": {
            "tags": []
          },
          "execution_count": 37
        }
      ]
    },
    {
      "metadata": {
        "id": "NcnQY3ETbLQT",
        "colab_type": "text"
      },
      "cell_type": "markdown",
      "source": [
        "Pretty big errors on training data than the validation set. It means that our model is underfitting."
      ]
    },
    {
      "metadata": {
        "id": "JSdE0SYV3X2k",
        "colab_type": "code",
        "outputId": "6dabdccf-5cf9-4bfd-e070-1870b86f072a",
        "colab": {
          "base_uri": "https://localhost:8080/",
          "height": 151
        }
      },
      "cell_type": "code",
      "source": [
        "learn.precompute=False\n",
        "learn.fit(1e-2, 5, cycle_len=1)"
      ],
      "execution_count": 0,
      "outputs": [
        {
          "output_type": "display_data",
          "data": {
            "application/vnd.jupyter.widget-view+json": {
              "model_id": "774b2c05490547fb9c6485b78677e68c",
              "version_minor": 0,
              "version_major": 2
            },
            "text/plain": [
              "HBox(children=(IntProgress(value=0, description='Epoch', max=5, style=ProgressStyle(description_width='initial…"
            ]
          },
          "metadata": {
            "tags": []
          }
        },
        {
          "output_type": "stream",
          "text": [
            "epoch      trn_loss   val_loss   accuracy   \n",
            "    0      1.021099   0.571636   0.824853  \n",
            "    1      0.949509   0.566267   0.827299  \n",
            "    2      0.923297   0.549844   0.828767  \n",
            "    3      0.805149   0.545509   0.831703  \n",
            "    4      0.80754    0.546004   0.833659  \n"
          ],
          "name": "stdout"
        },
        {
          "output_type": "execute_result",
          "data": {
            "text/plain": [
              "[array([0.546]), 0.8336594911937377]"
            ]
          },
          "metadata": {
            "tags": []
          },
          "execution_count": 38
        }
      ]
    },
    {
      "metadata": {
        "id": "3osh8L5Sbl7d",
        "colab_type": "text"
      },
      "cell_type": "markdown",
      "source": [
        "Still the same issue....because we didn't actually address it!\n",
        "So, we'll have to keep searching for more optimum spots i.e. keep decreasing the learning rate for longer period. "
      ]
    },
    {
      "metadata": {
        "id": "a9FFTS8C8j42",
        "colab_type": "code",
        "outputId": "c2e9b75f-6d07-414f-bbd4-b445e20ffe9e",
        "colab": {
          "base_uri": "https://localhost:8080/",
          "height": 185
        }
      },
      "cell_type": "code",
      "source": [
        "learn.fit(1e-2, 3, cycle_len=1, cycle_mult=2)"
      ],
      "execution_count": 0,
      "outputs": [
        {
          "output_type": "display_data",
          "data": {
            "application/vnd.jupyter.widget-view+json": {
              "model_id": "6f5e9813b80c4fd28da795c6b5c5d073",
              "version_minor": 0,
              "version_major": 2
            },
            "text/plain": [
              "HBox(children=(IntProgress(value=0, description='Epoch', max=7, style=ProgressStyle(description_width='initial…"
            ]
          },
          "metadata": {
            "tags": []
          }
        },
        {
          "output_type": "stream",
          "text": [
            "epoch      trn_loss   val_loss   accuracy   \n",
            "    0      0.845072   0.544619   0.830235  \n",
            "    1      0.829021   0.559367   0.825832  \n",
            "    2      0.765292   0.529275   0.830724  \n",
            "    3      0.867494   0.587093   0.82045   \n",
            "    4      0.868209   0.535415   0.830724  \n",
            "    5      0.684352   0.534892   0.826321  \n",
            "    6      0.758954   0.52974    0.838063  \n"
          ],
          "name": "stdout"
        },
        {
          "output_type": "execute_result",
          "data": {
            "text/plain": [
              "[array([0.52974]), 0.8380626223091977]"
            ]
          },
          "metadata": {
            "tags": []
          },
          "execution_count": 39
        }
      ]
    },
    {
      "metadata": {
        "id": "g2f5gG_B-lCk",
        "colab_type": "code",
        "colab": {}
      },
      "cell_type": "code",
      "source": [
        "learn.save('224_pre')"
      ],
      "execution_count": 0,
      "outputs": []
    },
    {
      "metadata": {
        "id": "9iCdITHuWP30",
        "colab_type": "code",
        "colab": {}
      },
      "cell_type": "code",
      "source": [
        "learn.load('224_pre')"
      ],
      "execution_count": 0,
      "outputs": []
    },
    {
      "metadata": {
        "id": "WFmdiNCCWaeU",
        "colab_type": "code",
        "outputId": "92e803c6-f9a2-437f-d981-2c84491784e2",
        "colab": {
          "base_uri": "https://localhost:8080/",
          "height": 17
        }
      },
      "cell_type": "code",
      "source": [
        "log_preds,y = learn.TTA()\n",
        "probs = np.mean(np.exp(log_preds),0)"
      ],
      "execution_count": 0,
      "outputs": [
        {
          "output_type": "stream",
          "text": [
            ""
          ],
          "name": "stdout"
        }
      ]
    },
    {
      "metadata": {
        "id": "HuU25PFFWyxo",
        "colab_type": "code",
        "outputId": "e66111fd-ddb7-449e-9392-0b8f1f7c31e9",
        "colab": {
          "base_uri": "https://localhost:8080/",
          "height": 34
        }
      },
      "cell_type": "code",
      "source": [
        "accuracy_np(probs, y)"
      ],
      "execution_count": 0,
      "outputs": [
        {
          "output_type": "execute_result",
          "data": {
            "text/plain": [
              "0.8542074363992173"
            ]
          },
          "metadata": {
            "tags": []
          },
          "execution_count": 43
        }
      ]
    },
    {
      "metadata": {
        "id": "9XXy64LaYQ6p",
        "colab_type": "code",
        "colab": {}
      },
      "cell_type": "code",
      "source": [
        "preds = np.exp(learn.predict(is_test=True))"
      ],
      "execution_count": 0,
      "outputs": []
    },
    {
      "metadata": {
        "id": "BW4tnMupgem5",
        "colab_type": "code",
        "colab": {}
      },
      "cell_type": "code",
      "source": [
        "fnames = [x.split(\"/\")[1].split(\".\")[0] for x in data.test_dl.dataset.fnames]"
      ],
      "execution_count": 0,
      "outputs": []
    },
    {
      "metadata": {
        "id": "8AoC1XSWgh8c",
        "colab_type": "code",
        "colab": {}
      },
      "cell_type": "code",
      "source": [
        "final = pd.read_csv(f\"{PATH}/sample_submission.csv\")\n",
        "final.loc[:,1:] = preds"
      ],
      "execution_count": 0,
      "outputs": []
    },
    {
      "metadata": {
        "id": "azwNgGCBgmUc",
        "colab_type": "code",
        "outputId": "72f04543-3fe4-4e73-eca5-728379e248b4",
        "colab": {
          "base_uri": "https://localhost:8080/",
          "height": 34
        }
      },
      "cell_type": "code",
      "source": [
        "f = \"submit1.csv\"\n",
        "final.to_csv(f\"{PATH}{f}\", compression=\"gzip\", index=False)\n",
        "\n",
        "from IPython.display import FileLink\n",
        "FileLink(f\"{PATH}{f}\")"
      ],
      "execution_count": 0,
      "outputs": [
        {
          "output_type": "execute_result",
          "data": {
            "text/html": [
              "<a href='./submit1.csv' target='_blank'>./submit1.csv</a><br>"
            ],
            "text/plain": [
              "/content/submit1.csv"
            ]
          },
          "metadata": {
            "tags": []
          },
          "execution_count": 49
        }
      ]
    },
    {
      "metadata": {
        "id": "RQJYR0cahSck",
        "colab_type": "code",
        "colab": {}
      },
      "cell_type": "code",
      "source": [
        "from google.colab import files\n",
        "files.download('submit1.csv') "
      ],
      "execution_count": 0,
      "outputs": []
    },
    {
      "metadata": {
        "id": "HZgkRFcOhvcV",
        "colab_type": "code",
        "colab": {}
      },
      "cell_type": "code",
      "source": [
        ""
      ],
      "execution_count": 0,
      "outputs": []
    }
  ]
}