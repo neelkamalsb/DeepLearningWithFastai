{
  "nbformat": 4,
  "nbformat_minor": 0,
  "metadata": {
    "colab": {
      "name": "DogBreeds.ipynb",
      "version": "0.3.2",
      "provenance": [],
      "collapsed_sections": []
    },
    "kernelspec": {
      "name": "python3",
      "display_name": "Python 3"
    },
    "accelerator": "GPU"
  },
  "cells": [
    {
      "metadata": {
        "id": "kl26KwyW2I_G",
        "colab_type": "text"
      },
      "cell_type": "markdown",
      "source": [
        "# Kaggle Dog Breed Identification Challenge\n",
        "Check out the challenge [here](https://www.kaggle.com/c/dog-breed-identification)."
      ]
    },
    {
      "metadata": {
        "id": "wT6fgPeZKIyy",
        "colab_type": "text"
      },
      "cell_type": "markdown",
      "source": [
        "Now we'll be building the same thing as in [Lesson1FULL(1)](https://github.com/neelkamalsb/DeepLearningWithFastai) notebook but on a different architecture and different data with minimum steps.</p>\n",
        "Earlier we had a general approach as follows\n",
        "1.  precompute=True\n",
        "2.  Use lr_find() to find highest learning rate where loss is still clearly improving\n",
        "3.  Train last layer from precomputed activations for 1-2 epochs\n",
        "4.  Train last layer with data augmentation (i.e. precompute=False) for 2-3 epochs with cycle_len=1\n",
        "5.  Unfreeze all layers\n",
        "6.  Set earlier layers to 3x-10x lower learning rate than next higher layer\n",
        "7.  Use lr_find() again\n",
        "8.  Train full network with cycle_mult=2 until over-fitting\n",
        "\n"
      ]
    },
    {
      "metadata": {
        "id": "Em0vxYgQnYk0",
        "colab_type": "text"
      },
      "cell_type": "markdown",
      "source": [
        "## Downloading the data\n",
        "We download the data using [this](https://github.com/floydwch/kaggle-cli).\n",
        "Check out more [here](http://wiki.fast.ai/index.php/Kaggle_CLI)."
      ]
    },
    {
      "metadata": {
        "id": "GdC_4nL734-C",
        "colab_type": "code",
        "colab": {}
      },
      "cell_type": "code",
      "source": [
        "!pip install kaggle-cli\n",
        "!kg config -g -u 'Your username' -p 'Your password' -c dog-breed-identification"
      ],
      "execution_count": 0,
      "outputs": []
    },
    {
      "metadata": {
        "id": "iBJSb1KW4ajC",
        "colab_type": "code",
        "colab": {}
      },
      "cell_type": "code",
      "source": [
        "!kg download"
      ],
      "execution_count": 0,
      "outputs": []
    },
    {
      "metadata": {
        "id": "TjrOK_OQoKi2",
        "colab_type": "code",
        "outputId": "a4db5da6-79d9-4133-9d72-47c915d34369",
        "colab": {
          "base_uri": "https://localhost:8080/",
          "height": 34
        }
      },
      "cell_type": "code",
      "source": [
        "!ls"
      ],
      "execution_count": 3,
      "outputs": [
        {
          "output_type": "stream",
          "text": [
            "labels.csv.zip\tsample_data  sample_submission.csv.zip\ttest.zip  train.zip\n"
          ],
          "name": "stdout"
        }
      ]
    },
    {
      "metadata": {
        "id": "l_TAgcfKoYxZ",
        "colab_type": "code",
        "colab": {}
      },
      "cell_type": "code",
      "source": [
        "!sudo apt install unzip\n",
        "!unzip train.zip\n",
        "!unzip test.zip\n",
        "!unzip labels.csv.zip"
      ],
      "execution_count": 0,
      "outputs": []
    },
    {
      "metadata": {
        "id": "5HqbrISBors8",
        "colab_type": "code",
        "outputId": "d9dfc3fa-004e-46a9-a80d-efa3ba1177d8",
        "colab": {
          "base_uri": "https://localhost:8080/",
          "height": 67
        }
      },
      "cell_type": "code",
      "source": [
        "!ls"
      ],
      "execution_count": 8,
      "outputs": [
        {
          "output_type": "stream",
          "text": [
            "labels.csv\tsample_submission.csv\t   test.zip\n",
            "labels.csv.zip\tsample_submission.csv.zip  train\n",
            "sample_data\ttest\t\t\t   train.zip\n"
          ],
          "name": "stdout"
        }
      ]
    },
    {
      "metadata": {
        "id": "VRlmXbLhhF0J",
        "colab_type": "code",
        "colab": {
          "base_uri": "https://localhost:8080/",
          "height": 67
        },
        "outputId": "1d4ffa68-591a-405e-dbf4-02db85b106f0"
      },
      "cell_type": "code",
      "source": [
        "!unzip sample_submission.csv.zip"
      ],
      "execution_count": 9,
      "outputs": [
        {
          "output_type": "stream",
          "text": [
            "Archive:  sample_submission.csv.zip\n",
            "replace sample_submission.csv? [y]es, [n]o, [A]ll, [N]one, [r]ename: A\n",
            "  inflating: sample_submission.csv   \n"
          ],
          "name": "stdout"
        }
      ]
    },
    {
      "metadata": {
        "id": "8yQIAzfzqCLV",
        "colab_type": "code",
        "outputId": "1854a138-5cc5-4460-a027-04abf9c47bfe",
        "colab": {
          "base_uri": "https://localhost:8080/",
          "height": 185
        }
      },
      "cell_type": "code",
      "source": [
        "!ls -l"
      ],
      "execution_count": 10,
      "outputs": [
        {
          "output_type": "stream",
          "text": [
            "total 733972\n",
            "-rw-r--r-- 1 root root    482063 Sep 28  2017 labels.csv\n",
            "-rw-r--r-- 1 root root    218954 Nov 23 09:43 labels.csv.zip\n",
            "drwxr-xr-x 2 root root      4096 Nov 20 18:17 sample_data\n",
            "-rw-r--r-- 1 root root  25200295 Sep 28  2017 sample_submission.csv\n",
            "-rw-r--r-- 1 root root    288160 Nov 23 09:43 sample_submission.csv.zip\n",
            "drwxr-xr-x 2 root root    688128 Sep 28  2017 test\n",
            "-rw-r--r-- 1 root root 362738853 Nov 23 09:43 test.zip\n",
            "drwxr-xr-x 2 root root    663552 Sep 28  2017 train\n",
            "-rw-r--r-- 1 root root 361279070 Nov 23 09:44 train.zip\n"
          ],
          "name": "stdout"
        }
      ]
    },
    {
      "metadata": {
        "id": "UJyTd2RFoDxL",
        "colab_type": "text"
      },
      "cell_type": "markdown",
      "source": [
        "## Some Google Colab Setup"
      ]
    },
    {
      "metadata": {
        "id": "J_5XT_9SSVfd",
        "colab_type": "code",
        "colab": {}
      },
      "cell_type": "code",
      "source": [
        "%matplotlib inline"
      ],
      "execution_count": 0,
      "outputs": []
    },
    {
      "metadata": {
        "id": "R6pVH1tIUkuB",
        "colab_type": "code",
        "colab": {}
      },
      "cell_type": "code",
      "source": [
        "!pip3 install fastai==0.7.0"
      ],
      "execution_count": 0,
      "outputs": []
    },
    {
      "metadata": {
        "id": "RLYTicBnUoYr",
        "colab_type": "code",
        "colab": {}
      },
      "cell_type": "code",
      "source": [
        "!pip3 install http://download.pytorch.org/whl/cu80/torch-0.3.0.post4-cp36-cp36m-linux_x86_64.whl \n",
        "!pip3 install torchvision"
      ],
      "execution_count": 0,
      "outputs": []
    },
    {
      "metadata": {
        "id": "_i5SlN17U2JO",
        "colab_type": "code",
        "colab": {}
      },
      "cell_type": "code",
      "source": [
        "!pip install torchtext==0.2.3"
      ],
      "execution_count": 0,
      "outputs": []
    },
    {
      "metadata": {
        "id": "uwU7tDzzXrwP",
        "colab_type": "code",
        "colab": {}
      },
      "cell_type": "code",
      "source": [
        "!pip install pillow==4.0.0"
      ],
      "execution_count": 0,
      "outputs": []
    },
    {
      "metadata": {
        "id": "B6k75ha7qxOT",
        "colab_type": "text"
      },
      "cell_type": "markdown",
      "source": [
        "## Let's GO!"
      ]
    },
    {
      "metadata": {
        "id": "hAhscQ7XqwcL",
        "colab_type": "code",
        "colab": {}
      },
      "cell_type": "code",
      "source": [
        "from fastai.imports import *"
      ],
      "execution_count": 0,
      "outputs": []
    },
    {
      "metadata": {
        "id": "_5hT1q3Kq7Ez",
        "colab_type": "code",
        "colab": {}
      },
      "cell_type": "code",
      "source": [
        "from fastai.transforms import *\n",
        "from fastai.conv_learner import *\n",
        "from fastai.model import *\n",
        "from fastai.dataset import *\n",
        "from fastai.sgdr import *\n",
        "from fastai.plots import *"
      ],
      "execution_count": 0,
      "outputs": []
    },
    {
      "metadata": {
        "id": "A-oZH-QNnBbs",
        "colab_type": "code",
        "outputId": "bc74d61f-d568-4252-8ddc-414c10de3730",
        "colab": {
          "base_uri": "https://localhost:8080/",
          "height": 34
        }
      },
      "cell_type": "code",
      "source": [
        "torch.cuda.is_available()             #this should return true"
      ],
      "execution_count": 22,
      "outputs": [
        {
          "output_type": "execute_result",
          "data": {
            "text/plain": [
              "True"
            ]
          },
          "metadata": {
            "tags": []
          },
          "execution_count": 22
        }
      ]
    },
    {
      "metadata": {
        "id": "VP8YEx5NpY89",
        "colab_type": "code",
        "outputId": "9fa73c0d-990a-43c1-c9d7-d8bf81fdbb85",
        "colab": {
          "base_uri": "https://localhost:8080/",
          "height": 34
        }
      },
      "cell_type": "code",
      "source": [
        "torch.backends.cudnn.enabled          #this should return true."
      ],
      "execution_count": 23,
      "outputs": [
        {
          "output_type": "execute_result",
          "data": {
            "text/plain": [
              "True"
            ]
          },
          "metadata": {
            "tags": []
          },
          "execution_count": 23
        }
      ]
    },
    {
      "metadata": {
        "id": "ZYi6Jd87Jznl",
        "colab_type": "text"
      },
      "cell_type": "markdown",
      "source": [
        "###  Get the weights"
      ]
    },
    {
      "metadata": {
        "id": "ywC3uxMNB76L",
        "colab_type": "code",
        "colab": {
          "base_uri": "https://localhost:8080/",
          "height": 202
        },
        "outputId": "b0b26de2-e152-4b93-892d-6c8b30131732"
      },
      "cell_type": "code",
      "source": [
        "!wget http://files.fast.ai/models/weights.tgz"
      ],
      "execution_count": 18,
      "outputs": [
        {
          "output_type": "stream",
          "text": [
            "--2018-11-23 10:09:31--  http://files.fast.ai/models/weights.tgz\n",
            "Resolving files.fast.ai (files.fast.ai)... 67.205.15.147\n",
            "Connecting to files.fast.ai (files.fast.ai)|67.205.15.147|:80... connected.\n",
            "HTTP request sent, awaiting response... 200 OK\n",
            "Length: 1195411318 (1.1G) [text/plain]\n",
            "Saving to: ‘weights.tgz’\n",
            "\n",
            "weights.tgz         100%[===================>]   1.11G   104MB/s    in 11s     \n",
            "\n",
            "2018-11-23 10:09:42 (101 MB/s) - ‘weights.tgz’ saved [1195411318/1195411318]\n",
            "\n"
          ],
          "name": "stdout"
        }
      ]
    },
    {
      "metadata": {
        "id": "dxfRjAw_FCNN",
        "colab_type": "code",
        "colab": {}
      },
      "cell_type": "code",
      "source": [
        "! tar -xzf weights.tgz "
      ],
      "execution_count": 0,
      "outputs": []
    },
    {
      "metadata": {
        "id": "BKrQyHA6GJ1j",
        "colab_type": "code",
        "colab": {
          "base_uri": "https://localhost:8080/",
          "height": 67
        },
        "outputId": "1af1773d-b0ee-4ddc-ca8f-cdb08ba2eaa0"
      },
      "cell_type": "code",
      "source": [
        "!ls\n"
      ],
      "execution_count": 34,
      "outputs": [
        {
          "output_type": "stream",
          "text": [
            "labels.csv      sample_submission.csv      test.zip  train.zip\n",
            "labels.csv.zip  sample_submission.csv.zip  \u001b[0m\u001b[01;34mtmp\u001b[0m/      \u001b[01;34mweights\u001b[0m/\n",
            "\u001b[01;34msample_data\u001b[0m/    \u001b[01;34mtest\u001b[0m/                      \u001b[01;34mtrain\u001b[0m/    weights.tgz\n"
          ],
          "name": "stdout"
        }
      ]
    },
    {
      "metadata": {
        "id": "UMLN9hC8GgFz",
        "colab_type": "code",
        "colab": {}
      },
      "cell_type": "code",
      "source": [
        "!mv weights /usr/local/lib/python3.6/dist-packages/fastai/"
      ],
      "execution_count": 0,
      "outputs": []
    },
    {
      "metadata": {
        "id": "tn-vzXDkaRJb",
        "colab_type": "text"
      },
      "cell_type": "markdown",
      "source": [
        "### Define some requirements and get a Cross validation set"
      ]
    },
    {
      "metadata": {
        "id": "Z9APnhtHqkbJ",
        "colab_type": "code",
        "colab": {}
      },
      "cell_type": "code",
      "source": [
        "PATH = './'\n",
        "sz = 224\n",
        "arch = resnext101_64\n",
        "bs = 8"
      ],
      "execution_count": 0,
      "outputs": []
    },
    {
      "metadata": {
        "id": "iS7DdTVVrObS",
        "colab_type": "code",
        "outputId": "a64ab30e-ffcf-4e66-cb41-ae87717be9ce",
        "colab": {
          "base_uri": "https://localhost:8080/",
          "height": 67
        }
      },
      "cell_type": "code",
      "source": [
        "label_csv = f'{PATH}labels.csv'                                #Get the labels.\n",
        "n = len(list(open(label_csv)))                                 #See the no. of labels.\n",
        "val_idxs = get_cv_idxs(n, cv_idx=3)                            #Get the validation set. \n",
        "                                                               #'get_cv_idxs(n)' gives numpy.ndarray of random\n",
        "                                                               # indices from 'labels_csv' for validation set.\n",
        "print('Total no. training Examples: ', n)                      #See how many examples are there.\n",
        "print('No. of Cross Validation Set Examples: ', len(val_idxs)) #We get 20% in the validation set.\n",
        "val_idxs"
      ],
      "execution_count": 25,
      "outputs": [
        {
          "output_type": "stream",
          "text": [
            "Total no. training Examples:  10223\n",
            "No. of Cross Validation Set Examples:  2044\n"
          ],
          "name": "stdout"
        },
        {
          "output_type": "execute_result",
          "data": {
            "text/plain": [
              "array([3386, 8026, 9503, ..., 7504, 8531, 6511])"
            ]
          },
          "metadata": {
            "tags": []
          },
          "execution_count": 25
        }
      ]
    },
    {
      "metadata": {
        "id": "TsVORzYSakEK",
        "colab_type": "text"
      },
      "cell_type": "markdown",
      "source": [
        "### Check out the data"
      ]
    },
    {
      "metadata": {
        "id": "QBHELf7Gra1X",
        "colab_type": "code",
        "outputId": "1d08534f-96e8-41f2-819c-f1c6e6342bd3",
        "colab": {
          "base_uri": "https://localhost:8080/",
          "height": 343
        }
      },
      "cell_type": "code",
      "source": [
        "label_df = pd.read_csv(label_csv)\n",
        "label_df.head(10)"
      ],
      "execution_count": 0,
      "outputs": [
        {
          "output_type": "execute_result",
          "data": {
            "text/html": [
              "<div>\n",
              "<style scoped>\n",
              "    .dataframe tbody tr th:only-of-type {\n",
              "        vertical-align: middle;\n",
              "    }\n",
              "\n",
              "    .dataframe tbody tr th {\n",
              "        vertical-align: top;\n",
              "    }\n",
              "\n",
              "    .dataframe thead th {\n",
              "        text-align: right;\n",
              "    }\n",
              "</style>\n",
              "<table border=\"1\" class=\"dataframe\">\n",
              "  <thead>\n",
              "    <tr style=\"text-align: right;\">\n",
              "      <th></th>\n",
              "      <th>id</th>\n",
              "      <th>breed</th>\n",
              "    </tr>\n",
              "  </thead>\n",
              "  <tbody>\n",
              "    <tr>\n",
              "      <th>0</th>\n",
              "      <td>000bec180eb18c7604dcecc8fe0dba07</td>\n",
              "      <td>boston_bull</td>\n",
              "    </tr>\n",
              "    <tr>\n",
              "      <th>1</th>\n",
              "      <td>001513dfcb2ffafc82cccf4d8bbaba97</td>\n",
              "      <td>dingo</td>\n",
              "    </tr>\n",
              "    <tr>\n",
              "      <th>2</th>\n",
              "      <td>001cdf01b096e06d78e9e5112d419397</td>\n",
              "      <td>pekinese</td>\n",
              "    </tr>\n",
              "    <tr>\n",
              "      <th>3</th>\n",
              "      <td>00214f311d5d2247d5dfe4fe24b2303d</td>\n",
              "      <td>bluetick</td>\n",
              "    </tr>\n",
              "    <tr>\n",
              "      <th>4</th>\n",
              "      <td>0021f9ceb3235effd7fcde7f7538ed62</td>\n",
              "      <td>golden_retriever</td>\n",
              "    </tr>\n",
              "    <tr>\n",
              "      <th>5</th>\n",
              "      <td>002211c81b498ef88e1b40b9abf84e1d</td>\n",
              "      <td>bedlington_terrier</td>\n",
              "    </tr>\n",
              "    <tr>\n",
              "      <th>6</th>\n",
              "      <td>00290d3e1fdd27226ba27a8ce248ce85</td>\n",
              "      <td>bedlington_terrier</td>\n",
              "    </tr>\n",
              "    <tr>\n",
              "      <th>7</th>\n",
              "      <td>002a283a315af96eaea0e28e7163b21b</td>\n",
              "      <td>borzoi</td>\n",
              "    </tr>\n",
              "    <tr>\n",
              "      <th>8</th>\n",
              "      <td>003df8b8a8b05244b1d920bb6cf451f9</td>\n",
              "      <td>basenji</td>\n",
              "    </tr>\n",
              "    <tr>\n",
              "      <th>9</th>\n",
              "      <td>0042188c895a2f14ef64a918ed9c7b64</td>\n",
              "      <td>scottish_deerhound</td>\n",
              "    </tr>\n",
              "  </tbody>\n",
              "</table>\n",
              "</div>"
            ],
            "text/plain": [
              "                                 id               breed\n",
              "0  000bec180eb18c7604dcecc8fe0dba07         boston_bull\n",
              "1  001513dfcb2ffafc82cccf4d8bbaba97               dingo\n",
              "2  001cdf01b096e06d78e9e5112d419397            pekinese\n",
              "3  00214f311d5d2247d5dfe4fe24b2303d            bluetick\n",
              "4  0021f9ceb3235effd7fcde7f7538ed62    golden_retriever\n",
              "5  002211c81b498ef88e1b40b9abf84e1d  bedlington_terrier\n",
              "6  00290d3e1fdd27226ba27a8ce248ce85  bedlington_terrier\n",
              "7  002a283a315af96eaea0e28e7163b21b              borzoi\n",
              "8  003df8b8a8b05244b1d920bb6cf451f9             basenji\n",
              "9  0042188c895a2f14ef64a918ed9c7b64  scottish_deerhound"
            ]
          },
          "metadata": {
            "tags": []
          },
          "execution_count": 18
        }
      ]
    },
    {
      "metadata": {
        "id": "YuVDbbZUteTt",
        "colab_type": "code",
        "outputId": "1fe4899f-2875-40bc-b2c8-d9fb32814221",
        "colab": {
          "base_uri": "https://localhost:8080/",
          "height": 1911
        }
      },
      "cell_type": "code",
      "source": [
        "label_df.pivot_table(index='breed', aggfunc=len).sort_values('id', ascending=False)"
      ],
      "execution_count": 0,
      "outputs": [
        {
          "output_type": "execute_result",
          "data": {
            "text/html": [
              "<div>\n",
              "<style scoped>\n",
              "    .dataframe tbody tr th:only-of-type {\n",
              "        vertical-align: middle;\n",
              "    }\n",
              "\n",
              "    .dataframe tbody tr th {\n",
              "        vertical-align: top;\n",
              "    }\n",
              "\n",
              "    .dataframe thead th {\n",
              "        text-align: right;\n",
              "    }\n",
              "</style>\n",
              "<table border=\"1\" class=\"dataframe\">\n",
              "  <thead>\n",
              "    <tr style=\"text-align: right;\">\n",
              "      <th></th>\n",
              "      <th>id</th>\n",
              "    </tr>\n",
              "    <tr>\n",
              "      <th>breed</th>\n",
              "      <th></th>\n",
              "    </tr>\n",
              "  </thead>\n",
              "  <tbody>\n",
              "    <tr>\n",
              "      <th>scottish_deerhound</th>\n",
              "      <td>126</td>\n",
              "    </tr>\n",
              "    <tr>\n",
              "      <th>maltese_dog</th>\n",
              "      <td>117</td>\n",
              "    </tr>\n",
              "    <tr>\n",
              "      <th>afghan_hound</th>\n",
              "      <td>116</td>\n",
              "    </tr>\n",
              "    <tr>\n",
              "      <th>entlebucher</th>\n",
              "      <td>115</td>\n",
              "    </tr>\n",
              "    <tr>\n",
              "      <th>bernese_mountain_dog</th>\n",
              "      <td>114</td>\n",
              "    </tr>\n",
              "    <tr>\n",
              "      <th>shih-tzu</th>\n",
              "      <td>112</td>\n",
              "    </tr>\n",
              "    <tr>\n",
              "      <th>great_pyrenees</th>\n",
              "      <td>111</td>\n",
              "    </tr>\n",
              "    <tr>\n",
              "      <th>pomeranian</th>\n",
              "      <td>111</td>\n",
              "    </tr>\n",
              "    <tr>\n",
              "      <th>basenji</th>\n",
              "      <td>110</td>\n",
              "    </tr>\n",
              "    <tr>\n",
              "      <th>samoyed</th>\n",
              "      <td>109</td>\n",
              "    </tr>\n",
              "    <tr>\n",
              "      <th>airedale</th>\n",
              "      <td>107</td>\n",
              "    </tr>\n",
              "    <tr>\n",
              "      <th>tibetan_terrier</th>\n",
              "      <td>107</td>\n",
              "    </tr>\n",
              "    <tr>\n",
              "      <th>leonberg</th>\n",
              "      <td>106</td>\n",
              "    </tr>\n",
              "    <tr>\n",
              "      <th>cairn</th>\n",
              "      <td>106</td>\n",
              "    </tr>\n",
              "    <tr>\n",
              "      <th>beagle</th>\n",
              "      <td>105</td>\n",
              "    </tr>\n",
              "    <tr>\n",
              "      <th>japanese_spaniel</th>\n",
              "      <td>105</td>\n",
              "    </tr>\n",
              "    <tr>\n",
              "      <th>australian_terrier</th>\n",
              "      <td>102</td>\n",
              "    </tr>\n",
              "    <tr>\n",
              "      <th>blenheim_spaniel</th>\n",
              "      <td>102</td>\n",
              "    </tr>\n",
              "    <tr>\n",
              "      <th>miniature_pinscher</th>\n",
              "      <td>102</td>\n",
              "    </tr>\n",
              "    <tr>\n",
              "      <th>irish_wolfhound</th>\n",
              "      <td>101</td>\n",
              "    </tr>\n",
              "    <tr>\n",
              "      <th>lakeland_terrier</th>\n",
              "      <td>99</td>\n",
              "    </tr>\n",
              "    <tr>\n",
              "      <th>saluki</th>\n",
              "      <td>99</td>\n",
              "    </tr>\n",
              "    <tr>\n",
              "      <th>papillon</th>\n",
              "      <td>96</td>\n",
              "    </tr>\n",
              "    <tr>\n",
              "      <th>whippet</th>\n",
              "      <td>95</td>\n",
              "    </tr>\n",
              "    <tr>\n",
              "      <th>siberian_husky</th>\n",
              "      <td>95</td>\n",
              "    </tr>\n",
              "    <tr>\n",
              "      <th>norwegian_elkhound</th>\n",
              "      <td>95</td>\n",
              "    </tr>\n",
              "    <tr>\n",
              "      <th>pug</th>\n",
              "      <td>94</td>\n",
              "    </tr>\n",
              "    <tr>\n",
              "      <th>chow</th>\n",
              "      <td>93</td>\n",
              "    </tr>\n",
              "    <tr>\n",
              "      <th>italian_greyhound</th>\n",
              "      <td>92</td>\n",
              "    </tr>\n",
              "    <tr>\n",
              "      <th>pembroke</th>\n",
              "      <td>92</td>\n",
              "    </tr>\n",
              "    <tr>\n",
              "      <th>...</th>\n",
              "      <td>...</td>\n",
              "    </tr>\n",
              "    <tr>\n",
              "      <th>german_short-haired_pointer</th>\n",
              "      <td>75</td>\n",
              "    </tr>\n",
              "    <tr>\n",
              "      <th>boxer</th>\n",
              "      <td>75</td>\n",
              "    </tr>\n",
              "    <tr>\n",
              "      <th>bull_mastiff</th>\n",
              "      <td>75</td>\n",
              "    </tr>\n",
              "    <tr>\n",
              "      <th>borzoi</th>\n",
              "      <td>75</td>\n",
              "    </tr>\n",
              "    <tr>\n",
              "      <th>pekinese</th>\n",
              "      <td>75</td>\n",
              "    </tr>\n",
              "    <tr>\n",
              "      <th>cocker_spaniel</th>\n",
              "      <td>74</td>\n",
              "    </tr>\n",
              "    <tr>\n",
              "      <th>american_staffordshire_terrier</th>\n",
              "      <td>74</td>\n",
              "    </tr>\n",
              "    <tr>\n",
              "      <th>doberman</th>\n",
              "      <td>74</td>\n",
              "    </tr>\n",
              "    <tr>\n",
              "      <th>brittany_spaniel</th>\n",
              "      <td>73</td>\n",
              "    </tr>\n",
              "    <tr>\n",
              "      <th>malinois</th>\n",
              "      <td>73</td>\n",
              "    </tr>\n",
              "    <tr>\n",
              "      <th>standard_schnauzer</th>\n",
              "      <td>72</td>\n",
              "    </tr>\n",
              "    <tr>\n",
              "      <th>flat-coated_retriever</th>\n",
              "      <td>72</td>\n",
              "    </tr>\n",
              "    <tr>\n",
              "      <th>redbone</th>\n",
              "      <td>72</td>\n",
              "    </tr>\n",
              "    <tr>\n",
              "      <th>border_collie</th>\n",
              "      <td>72</td>\n",
              "    </tr>\n",
              "    <tr>\n",
              "      <th>curly-coated_retriever</th>\n",
              "      <td>72</td>\n",
              "    </tr>\n",
              "    <tr>\n",
              "      <th>kuvasz</th>\n",
              "      <td>71</td>\n",
              "    </tr>\n",
              "    <tr>\n",
              "      <th>chihuahua</th>\n",
              "      <td>71</td>\n",
              "    </tr>\n",
              "    <tr>\n",
              "      <th>soft-coated_wheaten_terrier</th>\n",
              "      <td>71</td>\n",
              "    </tr>\n",
              "    <tr>\n",
              "      <th>french_bulldog</th>\n",
              "      <td>70</td>\n",
              "    </tr>\n",
              "    <tr>\n",
              "      <th>vizsla</th>\n",
              "      <td>70</td>\n",
              "    </tr>\n",
              "    <tr>\n",
              "      <th>tibetan_mastiff</th>\n",
              "      <td>69</td>\n",
              "    </tr>\n",
              "    <tr>\n",
              "      <th>german_shepherd</th>\n",
              "      <td>69</td>\n",
              "    </tr>\n",
              "    <tr>\n",
              "      <th>giant_schnauzer</th>\n",
              "      <td>69</td>\n",
              "    </tr>\n",
              "    <tr>\n",
              "      <th>walker_hound</th>\n",
              "      <td>69</td>\n",
              "    </tr>\n",
              "    <tr>\n",
              "      <th>otterhound</th>\n",
              "      <td>69</td>\n",
              "    </tr>\n",
              "    <tr>\n",
              "      <th>golden_retriever</th>\n",
              "      <td>67</td>\n",
              "    </tr>\n",
              "    <tr>\n",
              "      <th>brabancon_griffon</th>\n",
              "      <td>67</td>\n",
              "    </tr>\n",
              "    <tr>\n",
              "      <th>komondor</th>\n",
              "      <td>67</td>\n",
              "    </tr>\n",
              "    <tr>\n",
              "      <th>briard</th>\n",
              "      <td>66</td>\n",
              "    </tr>\n",
              "    <tr>\n",
              "      <th>eskimo_dog</th>\n",
              "      <td>66</td>\n",
              "    </tr>\n",
              "  </tbody>\n",
              "</table>\n",
              "<p>120 rows × 1 columns</p>\n",
              "</div>"
            ],
            "text/plain": [
              "                                 id\n",
              "breed                              \n",
              "scottish_deerhound              126\n",
              "maltese_dog                     117\n",
              "afghan_hound                    116\n",
              "entlebucher                     115\n",
              "bernese_mountain_dog            114\n",
              "shih-tzu                        112\n",
              "great_pyrenees                  111\n",
              "pomeranian                      111\n",
              "basenji                         110\n",
              "samoyed                         109\n",
              "airedale                        107\n",
              "tibetan_terrier                 107\n",
              "leonberg                        106\n",
              "cairn                           106\n",
              "beagle                          105\n",
              "japanese_spaniel                105\n",
              "australian_terrier              102\n",
              "blenheim_spaniel                102\n",
              "miniature_pinscher              102\n",
              "irish_wolfhound                 101\n",
              "lakeland_terrier                 99\n",
              "saluki                           99\n",
              "papillon                         96\n",
              "whippet                          95\n",
              "siberian_husky                   95\n",
              "norwegian_elkhound               95\n",
              "pug                              94\n",
              "chow                             93\n",
              "italian_greyhound                92\n",
              "pembroke                         92\n",
              "...                             ...\n",
              "german_short-haired_pointer      75\n",
              "boxer                            75\n",
              "bull_mastiff                     75\n",
              "borzoi                           75\n",
              "pekinese                         75\n",
              "cocker_spaniel                   74\n",
              "american_staffordshire_terrier   74\n",
              "doberman                         74\n",
              "brittany_spaniel                 73\n",
              "malinois                         73\n",
              "standard_schnauzer               72\n",
              "flat-coated_retriever            72\n",
              "redbone                          72\n",
              "border_collie                    72\n",
              "curly-coated_retriever           72\n",
              "kuvasz                           71\n",
              "chihuahua                        71\n",
              "soft-coated_wheaten_terrier      71\n",
              "french_bulldog                   70\n",
              "vizsla                           70\n",
              "tibetan_mastiff                  69\n",
              "german_shepherd                  69\n",
              "giant_schnauzer                  69\n",
              "walker_hound                     69\n",
              "otterhound                       69\n",
              "golden_retriever                 67\n",
              "brabancon_griffon                67\n",
              "komondor                         67\n",
              "briard                           66\n",
              "eskimo_dog                       66\n",
              "\n",
              "[120 rows x 1 columns]"
            ]
          },
          "metadata": {
            "tags": []
          },
          "execution_count": 19
        }
      ]
    },
    {
      "metadata": {
        "id": "Unfk30nDapTJ",
        "colab_type": "text"
      },
      "cell_type": "markdown",
      "source": [
        "### Build a function to get data varying sizes easily"
      ]
    },
    {
      "metadata": {
        "id": "GzF8e2Z8w8Rj",
        "colab_type": "code",
        "colab": {}
      },
      "cell_type": "code",
      "source": [
        "def get_data(sz, bs):\n",
        "  tfms = tfms_from_model(arch, sz, aug_tfms=transforms_side_on, max_zoom=1.1)\n",
        "  data = ImageClassifierData.from_csv(PATH, 'train', f'{PATH}labels.csv', \n",
        "                                      test_name='test', num_workers=4, \n",
        "                                      val_idxs=val_idxs, suffix='.jpg', \n",
        "                                      tfms=tfms, bs=bs)\n",
        "  return data if bs>300 else data.resize(340,'tmp')"
      ],
      "execution_count": 0,
      "outputs": []
    },
    {
      "metadata": {
        "id": "H-h4BPlGvKkw",
        "colab_type": "code",
        "outputId": "12479ea5-8e41-4301-8f3a-e1f4e1ffc1f2",
        "colab": {
          "base_uri": "https://localhost:8080/",
          "height": 50
        }
      },
      "cell_type": "code",
      "source": [
        "data = get_data(sz, bs)\n"
      ],
      "execution_count": 27,
      "outputs": [
        {
          "output_type": "display_data",
          "data": {
            "application/vnd.jupyter.widget-view+json": {
              "model_id": "59965f7cd4f84358ad6de038f78df824",
              "version_minor": 0,
              "version_major": 2
            },
            "text/plain": [
              "HBox(children=(IntProgress(value=0, max=6), HTML(value='')))"
            ]
          },
          "metadata": {
            "tags": []
          }
        },
        {
          "output_type": "stream",
          "text": [
            "                                                     \n"
          ],
          "name": "stdout"
        }
      ]
    },
    {
      "metadata": {
        "id": "0Yg28W34a-rf",
        "colab_type": "text"
      },
      "cell_type": "markdown",
      "source": [
        "### Learn!"
      ]
    },
    {
      "metadata": {
        "id": "1QkbcY_ywPe0",
        "colab_type": "code",
        "colab": {
          "base_uri": "https://localhost:8080/",
          "height": 67
        },
        "outputId": "6673de7e-0ccd-400d-fc96-9557711ebcb8"
      },
      "cell_type": "code",
      "source": [
        "learn = ConvLearner.pretrained(arch, data, precompute=True, ps=0.5)\n"
      ],
      "execution_count": 36,
      "outputs": [
        {
          "output_type": "stream",
          "text": [
            "100%|██████████| 1023/1023 [05:35<00:00,  3.89it/s]\n",
            "100%|██████████| 256/256 [01:23<00:00,  3.88it/s]\n",
            "100%|██████████| 1295/1295 [07:02<00:00,  3.70it/s]\n"
          ],
          "name": "stdout"
        }
      ]
    },
    {
      "metadata": {
        "id": "XAZ49y8Y6Ae0",
        "colab_type": "code",
        "outputId": "269cb10f-ba19-4815-cdb4-83dee71efec1",
        "colab": {
          "base_uri": "https://localhost:8080/",
          "height": 50
        }
      },
      "cell_type": "code",
      "source": [
        "lrf=learn.lr_find()\n",
        "lrf"
      ],
      "execution_count": 37,
      "outputs": [
        {
          "output_type": "display_data",
          "data": {
            "application/vnd.jupyter.widget-view+json": {
              "model_id": "05248bffd6a346648ef2b765973e9d31",
              "version_minor": 0,
              "version_major": 2
            },
            "text/plain": [
              "HBox(children=(IntProgress(value=0, description='Epoch', max=1, style=ProgressStyle(description_width='initial…"
            ]
          },
          "metadata": {
            "tags": []
          }
        },
        {
          "output_type": "stream",
          "text": [
            " 72%|███████▏  | 733/1023 [00:09<00:04, 63.52it/s, loss=7.67]\n"
          ],
          "name": "stdout"
        }
      ]
    },
    {
      "metadata": {
        "id": "vkgFD0AmLDGt",
        "colab_type": "code",
        "colab": {}
      },
      "cell_type": "code",
      "source": [
        "learn.lr_find(1e-7,1e2)\n",
        "learn.sched.plot(n_skip=0, n_skip_end=0)"
      ],
      "execution_count": 0,
      "outputs": []
    },
    {
      "metadata": {
        "id": "NyfAAw9M1H9x",
        "colab_type": "code",
        "colab": {}
      },
      "cell_type": "code",
      "source": [
        "learn.sched.plot_lr()    #This is not plotting, and I am unable to find the reason\n",
        "                         #Suggestions are welcomed!"
      ],
      "execution_count": 0,
      "outputs": []
    },
    {
      "metadata": {
        "id": "UVi7bWb11StK",
        "colab_type": "code",
        "colab": {}
      },
      "cell_type": "code",
      "source": [
        "learn.sched.plot()       #This is not plotting, and I am unable to find the reason\n",
        "                         #Suggestions are welcomed!"
      ],
      "execution_count": 0,
      "outputs": []
    },
    {
      "metadata": {
        "id": "sQi8imf-3LbB",
        "colab_type": "code",
        "outputId": "83cc6cc0-8ca8-4fa2-bbe4-7fcd31009b30",
        "colab": {
          "base_uri": "https://localhost:8080/",
          "height": 134
        }
      },
      "cell_type": "code",
      "source": [
        "learn.fit(1e-2, 3)"
      ],
      "execution_count": 42,
      "outputs": [
        {
          "output_type": "display_data",
          "data": {
            "application/vnd.jupyter.widget-view+json": {
              "model_id": "51c9ae2a6c26484181fab2c5ed13960b",
              "version_minor": 0,
              "version_major": 2
            },
            "text/plain": [
              "HBox(children=(IntProgress(value=0, description='Epoch', max=3, style=ProgressStyle(description_width='initial…"
            ]
          },
          "metadata": {
            "tags": []
          }
        },
        {
          "output_type": "stream",
          "text": [
            "epoch      trn_loss   val_loss   accuracy   \n",
            "    0      0.799682   0.405888   0.873777  \n",
            "    1      0.632344   0.383956   0.887965  \n",
            "    2      0.481198   0.343744   0.896771  \n",
            "\n"
          ],
          "name": "stdout"
        },
        {
          "output_type": "execute_result",
          "data": {
            "text/plain": [
              "[array([0.34374]), 0.8967710371819961]"
            ]
          },
          "metadata": {
            "tags": []
          },
          "execution_count": 42
        }
      ]
    },
    {
      "metadata": {
        "id": "NcnQY3ETbLQT",
        "colab_type": "text"
      },
      "cell_type": "markdown",
      "source": [
        "Pretty big errors on training data than the validation set. It means that our model is underfitting."
      ]
    },
    {
      "metadata": {
        "id": "JSdE0SYV3X2k",
        "colab_type": "code",
        "outputId": "1bf8e9d9-5f7c-49a6-b8a1-acf1585340f7",
        "colab": {
          "base_uri": "https://localhost:8080/",
          "height": 168
        }
      },
      "cell_type": "code",
      "source": [
        "learn.precompute=False\n",
        "learn.fit(1e-2, 5, cycle_len=1)"
      ],
      "execution_count": 43,
      "outputs": [
        {
          "output_type": "display_data",
          "data": {
            "application/vnd.jupyter.widget-view+json": {
              "model_id": "a6255a47a59242fda2493454302e1c00",
              "version_minor": 0,
              "version_major": 2
            },
            "text/plain": [
              "HBox(children=(IntProgress(value=0, description='Epoch', max=5, style=ProgressStyle(description_width='initial…"
            ]
          },
          "metadata": {
            "tags": []
          }
        },
        {
          "output_type": "stream",
          "text": [
            "epoch      trn_loss   val_loss   accuracy   \n",
            "    0      0.494789   0.298513   0.912427  \n",
            "    1      0.481034   0.30267    0.91047   \n",
            "    2      0.459537   0.300343   0.910959  \n",
            "    3      0.442421   0.294351   0.904599  \n",
            "    4      0.364932   0.296458   0.907534  \n",
            "\n"
          ],
          "name": "stdout"
        },
        {
          "output_type": "execute_result",
          "data": {
            "text/plain": [
              "[array([0.29646]), 0.9075342465753424]"
            ]
          },
          "metadata": {
            "tags": []
          },
          "execution_count": 43
        }
      ]
    },
    {
      "metadata": {
        "id": "a9FFTS8C8j42",
        "colab_type": "code",
        "outputId": "0e826a10-25d6-4127-ec8c-76c1247361a6",
        "colab": {
          "base_uri": "https://localhost:8080/",
          "height": 202
        }
      },
      "cell_type": "code",
      "source": [
        "learn.fit(1e-2, 3, cycle_len=1, cycle_mult=2)"
      ],
      "execution_count": 44,
      "outputs": [
        {
          "output_type": "display_data",
          "data": {
            "application/vnd.jupyter.widget-view+json": {
              "model_id": "dd0ba03ca453422b9eb88575ee9bc0d6",
              "version_minor": 0,
              "version_major": 2
            },
            "text/plain": [
              "HBox(children=(IntProgress(value=0, description='Epoch', max=7, style=ProgressStyle(description_width='initial…"
            ]
          },
          "metadata": {
            "tags": []
          }
        },
        {
          "output_type": "stream",
          "text": [
            "epoch      trn_loss   val_loss   accuracy   \n",
            "    0      0.340949   0.297825   0.908513  \n",
            "    1      0.452497   0.301744   0.908023  \n",
            "    2      0.341018   0.281875   0.914384  \n",
            "    3      0.451636   0.349841   0.903131  \n",
            "    4      0.307107   0.314065   0.907534  \n",
            "    5      0.25724    0.282693   0.911937  \n",
            "    6      0.267021   0.276607   0.914873  \n",
            "\n"
          ],
          "name": "stdout"
        },
        {
          "output_type": "execute_result",
          "data": {
            "text/plain": [
              "[array([0.27661]), 0.9148727984344422]"
            ]
          },
          "metadata": {
            "tags": []
          },
          "execution_count": 44
        }
      ]
    },
    {
      "metadata": {
        "id": "g2f5gG_B-lCk",
        "colab_type": "code",
        "colab": {}
      },
      "cell_type": "code",
      "source": [
        "learn.save('224_pre')"
      ],
      "execution_count": 0,
      "outputs": []
    },
    {
      "metadata": {
        "id": "9iCdITHuWP30",
        "colab_type": "code",
        "colab": {}
      },
      "cell_type": "code",
      "source": [
        "learn.load('224_pre')"
      ],
      "execution_count": 0,
      "outputs": []
    },
    {
      "metadata": {
        "id": "WFmdiNCCWaeU",
        "colab_type": "code",
        "outputId": "b90d5717-365e-434c-88a1-f4f7f3bc0964",
        "colab": {
          "base_uri": "https://localhost:8080/",
          "height": 17
        }
      },
      "cell_type": "code",
      "source": [
        "log_preds,y = learn.TTA()\n",
        "probs = np.mean(np.exp(log_preds),0)"
      ],
      "execution_count": 47,
      "outputs": [
        {
          "output_type": "stream",
          "text": [
            ""
          ],
          "name": "stdout"
        }
      ]
    },
    {
      "metadata": {
        "id": "HuU25PFFWyxo",
        "colab_type": "code",
        "outputId": "8feaa3b5-3e9d-4987-d9a8-1d04eab6d434",
        "colab": {
          "base_uri": "https://localhost:8080/",
          "height": 34
        }
      },
      "cell_type": "code",
      "source": [
        "accuracy_np(probs, y)"
      ],
      "execution_count": 48,
      "outputs": [
        {
          "output_type": "execute_result",
          "data": {
            "text/plain": [
              "0.9227005870841487"
            ]
          },
          "metadata": {
            "tags": []
          },
          "execution_count": 48
        }
      ]
    },
    {
      "metadata": {
        "id": "9XXy64LaYQ6p",
        "colab_type": "code",
        "colab": {}
      },
      "cell_type": "code",
      "source": [
        "preds = np.exp(learn.predict(is_test=True))"
      ],
      "execution_count": 0,
      "outputs": []
    },
    {
      "metadata": {
        "id": "MsW-0-Colw9_",
        "colab_type": "code",
        "colab": {
          "base_uri": "https://localhost:8080/",
          "height": 34
        },
        "outputId": "6322aebe-f5e4-46df-da46-1d624282a011"
      },
      "cell_type": "code",
      "source": [
        "preds.shape"
      ],
      "execution_count": 50,
      "outputs": [
        {
          "output_type": "execute_result",
          "data": {
            "text/plain": [
              "(10357, 120)"
            ]
          },
          "metadata": {
            "tags": []
          },
          "execution_count": 50
        }
      ]
    },
    {
      "metadata": {
        "id": "L_tyqGd7mHgi",
        "colab_type": "code",
        "colab": {}
      },
      "cell_type": "code",
      "source": [
        "df = pd.DataFrame(preds)\n",
        "df.columns = data.classes"
      ],
      "execution_count": 0,
      "outputs": []
    },
    {
      "metadata": {
        "id": "9EA3Q9L9mXgW",
        "colab_type": "code",
        "colab": {
          "base_uri": "https://localhost:8080/",
          "height": 151
        },
        "outputId": "3220273c-9c48-4aed-ce42-584fce613527"
      },
      "cell_type": "code",
      "source": [
        "df.columns\n"
      ],
      "execution_count": 54,
      "outputs": [
        {
          "output_type": "execute_result",
          "data": {
            "text/plain": [
              "Index(['affenpinscher', 'afghan_hound', 'african_hunting_dog', 'airedale',\n",
              "       'american_staffordshire_terrier', 'appenzeller', 'australian_terrier',\n",
              "       'basenji', 'basset', 'beagle',\n",
              "       ...\n",
              "       'toy_poodle', 'toy_terrier', 'vizsla', 'walker_hound', 'weimaraner',\n",
              "       'welsh_springer_spaniel', 'west_highland_white_terrier', 'whippet',\n",
              "       'wire-haired_fox_terrier', 'yorkshire_terrier'],\n",
              "      dtype='object', length=120)"
            ]
          },
          "metadata": {
            "tags": []
          },
          "execution_count": 54
        }
      ]
    },
    {
      "metadata": {
        "id": "_r01JWiTmfa0",
        "colab_type": "code",
        "colab": {}
      },
      "cell_type": "code",
      "source": [
        "df.insert(0, 'id', [o[5:-4] for o in data.test_ds.fnames])"
      ],
      "execution_count": 0,
      "outputs": []
    },
    {
      "metadata": {
        "id": "FmOVdm8tm-a8",
        "colab_type": "code",
        "colab": {
          "base_uri": "https://localhost:8080/",
          "height": 345
        },
        "outputId": "d16884e0-5315-45ef-9b5e-acadf8b7ce02"
      },
      "cell_type": "code",
      "source": [
        "df.head()"
      ],
      "execution_count": 57,
      "outputs": [
        {
          "output_type": "execute_result",
          "data": {
            "text/html": [
              "<div>\n",
              "<style scoped>\n",
              "    .dataframe tbody tr th:only-of-type {\n",
              "        vertical-align: middle;\n",
              "    }\n",
              "\n",
              "    .dataframe tbody tr th {\n",
              "        vertical-align: top;\n",
              "    }\n",
              "\n",
              "    .dataframe thead th {\n",
              "        text-align: right;\n",
              "    }\n",
              "</style>\n",
              "<table border=\"1\" class=\"dataframe\">\n",
              "  <thead>\n",
              "    <tr style=\"text-align: right;\">\n",
              "      <th></th>\n",
              "      <th>id</th>\n",
              "      <th>affenpinscher</th>\n",
              "      <th>afghan_hound</th>\n",
              "      <th>african_hunting_dog</th>\n",
              "      <th>airedale</th>\n",
              "      <th>american_staffordshire_terrier</th>\n",
              "      <th>appenzeller</th>\n",
              "      <th>australian_terrier</th>\n",
              "      <th>basenji</th>\n",
              "      <th>basset</th>\n",
              "      <th>...</th>\n",
              "      <th>toy_poodle</th>\n",
              "      <th>toy_terrier</th>\n",
              "      <th>vizsla</th>\n",
              "      <th>walker_hound</th>\n",
              "      <th>weimaraner</th>\n",
              "      <th>welsh_springer_spaniel</th>\n",
              "      <th>west_highland_white_terrier</th>\n",
              "      <th>whippet</th>\n",
              "      <th>wire-haired_fox_terrier</th>\n",
              "      <th>yorkshire_terrier</th>\n",
              "    </tr>\n",
              "  </thead>\n",
              "  <tbody>\n",
              "    <tr>\n",
              "      <th>0</th>\n",
              "      <td>2162f28a3151f4ca907a8a9d79492618</td>\n",
              "      <td>9.622564e-07</td>\n",
              "      <td>1.746814e-04</td>\n",
              "      <td>1.033450e-06</td>\n",
              "      <td>2.247167e-06</td>\n",
              "      <td>3.342854e-08</td>\n",
              "      <td>1.207091e-07</td>\n",
              "      <td>1.257938e-06</td>\n",
              "      <td>4.863871e-08</td>\n",
              "      <td>2.688949e-07</td>\n",
              "      <td>...</td>\n",
              "      <td>1.694619e-06</td>\n",
              "      <td>2.411577e-07</td>\n",
              "      <td>1.539381e-05</td>\n",
              "      <td>3.109882e-07</td>\n",
              "      <td>4.684487e-07</td>\n",
              "      <td>3.708372e-05</td>\n",
              "      <td>2.786743e-08</td>\n",
              "      <td>2.014952e-08</td>\n",
              "      <td>7.040341e-07</td>\n",
              "      <td>6.495080e-06</td>\n",
              "    </tr>\n",
              "    <tr>\n",
              "      <th>1</th>\n",
              "      <td>d4592b2ce3f4b01ccf09e3dd066366cf</td>\n",
              "      <td>9.999599e-01</td>\n",
              "      <td>3.333576e-09</td>\n",
              "      <td>3.705285e-09</td>\n",
              "      <td>7.549974e-10</td>\n",
              "      <td>4.191065e-11</td>\n",
              "      <td>3.774746e-11</td>\n",
              "      <td>5.368271e-11</td>\n",
              "      <td>1.046090e-10</td>\n",
              "      <td>2.178532e-09</td>\n",
              "      <td>...</td>\n",
              "      <td>2.143924e-08</td>\n",
              "      <td>1.257417e-10</td>\n",
              "      <td>2.594498e-09</td>\n",
              "      <td>3.006835e-10</td>\n",
              "      <td>1.546833e-10</td>\n",
              "      <td>3.053817e-11</td>\n",
              "      <td>2.116222e-10</td>\n",
              "      <td>3.660598e-11</td>\n",
              "      <td>8.292910e-10</td>\n",
              "      <td>3.707443e-08</td>\n",
              "    </tr>\n",
              "    <tr>\n",
              "      <th>2</th>\n",
              "      <td>a04ec5d3e358109699247c1d60dd6d2e</td>\n",
              "      <td>9.586493e-11</td>\n",
              "      <td>1.430730e-11</td>\n",
              "      <td>2.484441e-11</td>\n",
              "      <td>7.330782e-12</td>\n",
              "      <td>9.430868e-11</td>\n",
              "      <td>5.596404e-11</td>\n",
              "      <td>2.236877e-11</td>\n",
              "      <td>2.454773e-09</td>\n",
              "      <td>4.731412e-08</td>\n",
              "      <td>...</td>\n",
              "      <td>8.831192e-10</td>\n",
              "      <td>1.271661e-11</td>\n",
              "      <td>9.172752e-05</td>\n",
              "      <td>6.681428e-08</td>\n",
              "      <td>1.283227e-11</td>\n",
              "      <td>8.227715e-10</td>\n",
              "      <td>1.585996e-11</td>\n",
              "      <td>1.766201e-11</td>\n",
              "      <td>1.016528e-13</td>\n",
              "      <td>4.297434e-10</td>\n",
              "    </tr>\n",
              "    <tr>\n",
              "      <th>3</th>\n",
              "      <td>32b09857c983edf030d8b27136a841cc</td>\n",
              "      <td>2.154818e-07</td>\n",
              "      <td>6.210754e-06</td>\n",
              "      <td>6.519910e-08</td>\n",
              "      <td>2.044864e-07</td>\n",
              "      <td>1.223535e-08</td>\n",
              "      <td>1.624409e-07</td>\n",
              "      <td>1.569498e-08</td>\n",
              "      <td>4.337887e-09</td>\n",
              "      <td>3.483875e-09</td>\n",
              "      <td>...</td>\n",
              "      <td>4.302683e-10</td>\n",
              "      <td>3.366662e-07</td>\n",
              "      <td>6.468835e-09</td>\n",
              "      <td>1.786672e-08</td>\n",
              "      <td>7.141433e-08</td>\n",
              "      <td>5.546946e-07</td>\n",
              "      <td>3.300172e-09</td>\n",
              "      <td>1.841218e-05</td>\n",
              "      <td>1.587495e-06</td>\n",
              "      <td>2.244094e-08</td>\n",
              "    </tr>\n",
              "    <tr>\n",
              "      <th>4</th>\n",
              "      <td>bc3a55555f74f590e7ddbf7a9e6475f7</td>\n",
              "      <td>1.502749e-06</td>\n",
              "      <td>3.379953e-06</td>\n",
              "      <td>1.399289e-07</td>\n",
              "      <td>1.313091e-09</td>\n",
              "      <td>3.488472e-08</td>\n",
              "      <td>1.643816e-08</td>\n",
              "      <td>9.654488e-09</td>\n",
              "      <td>1.338602e-08</td>\n",
              "      <td>8.626689e-09</td>\n",
              "      <td>...</td>\n",
              "      <td>1.012352e-07</td>\n",
              "      <td>6.708266e-09</td>\n",
              "      <td>1.157600e-08</td>\n",
              "      <td>4.279106e-09</td>\n",
              "      <td>1.345923e-09</td>\n",
              "      <td>6.166624e-10</td>\n",
              "      <td>1.666774e-09</td>\n",
              "      <td>1.433464e-08</td>\n",
              "      <td>4.794136e-09</td>\n",
              "      <td>3.153239e-07</td>\n",
              "    </tr>\n",
              "  </tbody>\n",
              "</table>\n",
              "<p>5 rows × 121 columns</p>\n",
              "</div>"
            ],
            "text/plain": [
              "                                 id  affenpinscher  afghan_hound  \\\n",
              "0  2162f28a3151f4ca907a8a9d79492618   9.622564e-07  1.746814e-04   \n",
              "1  d4592b2ce3f4b01ccf09e3dd066366cf   9.999599e-01  3.333576e-09   \n",
              "2  a04ec5d3e358109699247c1d60dd6d2e   9.586493e-11  1.430730e-11   \n",
              "3  32b09857c983edf030d8b27136a841cc   2.154818e-07  6.210754e-06   \n",
              "4  bc3a55555f74f590e7ddbf7a9e6475f7   1.502749e-06  3.379953e-06   \n",
              "\n",
              "   african_hunting_dog      airedale  american_staffordshire_terrier  \\\n",
              "0         1.033450e-06  2.247167e-06                    3.342854e-08   \n",
              "1         3.705285e-09  7.549974e-10                    4.191065e-11   \n",
              "2         2.484441e-11  7.330782e-12                    9.430868e-11   \n",
              "3         6.519910e-08  2.044864e-07                    1.223535e-08   \n",
              "4         1.399289e-07  1.313091e-09                    3.488472e-08   \n",
              "\n",
              "    appenzeller  australian_terrier       basenji        basset  \\\n",
              "0  1.207091e-07        1.257938e-06  4.863871e-08  2.688949e-07   \n",
              "1  3.774746e-11        5.368271e-11  1.046090e-10  2.178532e-09   \n",
              "2  5.596404e-11        2.236877e-11  2.454773e-09  4.731412e-08   \n",
              "3  1.624409e-07        1.569498e-08  4.337887e-09  3.483875e-09   \n",
              "4  1.643816e-08        9.654488e-09  1.338602e-08  8.626689e-09   \n",
              "\n",
              "         ...            toy_poodle   toy_terrier        vizsla  walker_hound  \\\n",
              "0        ...          1.694619e-06  2.411577e-07  1.539381e-05  3.109882e-07   \n",
              "1        ...          2.143924e-08  1.257417e-10  2.594498e-09  3.006835e-10   \n",
              "2        ...          8.831192e-10  1.271661e-11  9.172752e-05  6.681428e-08   \n",
              "3        ...          4.302683e-10  3.366662e-07  6.468835e-09  1.786672e-08   \n",
              "4        ...          1.012352e-07  6.708266e-09  1.157600e-08  4.279106e-09   \n",
              "\n",
              "     weimaraner  welsh_springer_spaniel  west_highland_white_terrier  \\\n",
              "0  4.684487e-07            3.708372e-05                 2.786743e-08   \n",
              "1  1.546833e-10            3.053817e-11                 2.116222e-10   \n",
              "2  1.283227e-11            8.227715e-10                 1.585996e-11   \n",
              "3  7.141433e-08            5.546946e-07                 3.300172e-09   \n",
              "4  1.345923e-09            6.166624e-10                 1.666774e-09   \n",
              "\n",
              "        whippet  wire-haired_fox_terrier  yorkshire_terrier  \n",
              "0  2.014952e-08             7.040341e-07       6.495080e-06  \n",
              "1  3.660598e-11             8.292910e-10       3.707443e-08  \n",
              "2  1.766201e-11             1.016528e-13       4.297434e-10  \n",
              "3  1.841218e-05             1.587495e-06       2.244094e-08  \n",
              "4  1.433464e-08             4.794136e-09       3.153239e-07  \n",
              "\n",
              "[5 rows x 121 columns]"
            ]
          },
          "metadata": {
            "tags": []
          },
          "execution_count": 57
        }
      ]
    },
    {
      "metadata": {
        "id": "ws94pORhnpLk",
        "colab_type": "code",
        "colab": {}
      },
      "cell_type": "code",
      "source": [
        "SUBM = f'{PATH}/SUBM/'\n",
        "os.makedirs(SUBM, exist_ok=True)\n",
        "df.to_csv(f'{SUBM}/sub.gz', compression='gzip', index=False)"
      ],
      "execution_count": 0,
      "outputs": []
    },
    {
      "metadata": {
        "id": "HZgkRFcOhvcV",
        "colab_type": "code",
        "colab": {}
      },
      "cell_type": "code",
      "source": [
        "df.to_csv(f'{SUBM}/sub.csv', index=False)"
      ],
      "execution_count": 0,
      "outputs": []
    },
    {
      "metadata": {
        "id": "bdOgaEBZpJa0",
        "colab_type": "code",
        "colab": {}
      },
      "cell_type": "code",
      "source": [
        "from google.colab import files\n",
        "files.download(f'{SUBM}/sub.csv') "
      ],
      "execution_count": 0,
      "outputs": []
    },
    {
      "metadata": {
        "id": "Nqn2HHm9q7VM",
        "colab_type": "text"
      },
      "cell_type": "markdown",
      "source": [
        "That's all folks!"
      ]
    }
  ]
}